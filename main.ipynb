{
 "cells": [
  {
   "cell_type": "code",
   "execution_count": 363,
   "metadata": {},
   "outputs": [],
   "source": [
    "from pyspark.sql import SparkSession\n",
    "from pyspark.sql.window import Window\n",
    "# from pyspark.sql.functions import rank,desc,when,datediff,month\n",
    "from pyspark.sql.functions import *\n",
    "# from pyspark.sql.functions import countDistinct,max\n",
    "\n",
    "# Create SparkSession \n",
    "spark = SparkSession.builder.appName(\"dany's diner\").getOrCreate()"
   ]
  },
  {
   "cell_type": "code",
   "execution_count": 200,
   "metadata": {},
   "outputs": [],
   "source": [
    "sales_df = spark.read.csv(\"sales.csv\",header=True)\n",
    "sales_df = sales_df.withColumn('product_id',sales_df.product_id.cast('int'))\n",
    "sales_df = sales_df.withColumn('order_date',sales_df.order_date.cast('date'))\n",
    "menu_df = spark.read.csv(\"menu.csv\",header=True)\n",
    "menu_df = menu_df.withColumn('product_id',menu_df.product_id.cast('int'))\n",
    "menu_df = menu_df.withColumn('price',menu_df.price.cast('int'))\n",
    "members_df = spark.read.csv(\"members.csv\",header=True)\n",
    "members_df = members_df.withColumn('join_date',members_df.join_date.cast('date'))\n"
   ]
  },
  {
   "attachments": {},
   "cell_type": "markdown",
   "metadata": {},
   "source": [
    "Question1 : What is the total amount each customer spent at the restaurant?"
   ]
  },
  {
   "cell_type": "code",
   "execution_count": 201,
   "metadata": {},
   "outputs": [],
   "source": [
    "total_amt_per_customer = sales_df.join(menu_df,'product_id','inner').groupBy(\"customer_id\").agg({\"price\":\"sum\"}).orderBy(\"customer_id\").withColumnRenamed(\"sum(price)\",\"total_price\")"
   ]
  },
  {
   "cell_type": "code",
   "execution_count": 128,
   "metadata": {},
   "outputs": [
    {
     "name": "stdout",
     "output_type": "stream",
     "text": [
      "+-----------+-----------+\n",
      "|customer_id|total_price|\n",
      "+-----------+-----------+\n",
      "|          A|         76|\n",
      "|          B|         74|\n",
      "|          C|         36|\n",
      "+-----------+-----------+\n",
      "\n"
     ]
    }
   ],
   "source": [
    "total_amt_per_customer.show()"
   ]
  },
  {
   "attachments": {},
   "cell_type": "markdown",
   "metadata": {},
   "source": [
    "Question2 : How many days has each customer visited the restaurant?"
   ]
  },
  {
   "cell_type": "code",
   "execution_count": 129,
   "metadata": {},
   "outputs": [],
   "source": [
    "total_days_per_customer = sales_df.groupBy(\"customer_id\").agg(countDistinct('order_date')).orderBy(\"customer_id\")"
   ]
  },
  {
   "cell_type": "code",
   "execution_count": 130,
   "metadata": {},
   "outputs": [
    {
     "name": "stdout",
     "output_type": "stream",
     "text": [
      "+-----------+-----------------+\n",
      "|customer_id|count(order_date)|\n",
      "+-----------+-----------------+\n",
      "|          A|                4|\n",
      "|          B|                6|\n",
      "|          C|                2|\n",
      "+-----------+-----------------+\n",
      "\n"
     ]
    }
   ],
   "source": [
    "total_days_per_customer.show()"
   ]
  },
  {
   "attachments": {},
   "cell_type": "markdown",
   "metadata": {},
   "source": [
    "Question3 :  What was the first item from the menu purchased by each customer?"
   ]
  },
  {
   "cell_type": "code",
   "execution_count": 144,
   "metadata": {},
   "outputs": [],
   "source": [
    "windowSpec = Window.partitionBy(\"customer_id\").orderBy(\"order_date\")\n",
    "first_item_each_customer = sales_df\n",
    "first_item_each_customer = first_item_each_customer.withColumn('rank',rank().over(windowSpec))\n",
    "# first_item_each_customer = sales_df.filter(sales_df.rank==1)\n"
   ]
  },
  {
   "cell_type": "code",
   "execution_count": 152,
   "metadata": {},
   "outputs": [
    {
     "name": "stdout",
     "output_type": "stream",
     "text": [
      "+----------+-----------+----------+----+------------+-----+\n",
      "|product_id|customer_id|order_date|rank|product_name|price|\n",
      "+----------+-----------+----------+----+------------+-----+\n",
      "|         1|          A|2021-01-01|   1|       sushi|   10|\n",
      "|         2|          A|2021-01-01|   1|       curry|   15|\n",
      "|         2|          B|2021-01-01|   1|       curry|   15|\n",
      "|         3|          C|2021-01-01|   1|       ramen|   12|\n",
      "|         3|          C|2021-01-01|   1|       ramen|   12|\n",
      "+----------+-----------+----------+----+------------+-----+\n",
      "\n"
     ]
    }
   ],
   "source": [
    "first_item_each_customer.filter(\"rank==1\").join(menu_df,'product_id').show()"
   ]
  },
  {
   "attachments": {},
   "cell_type": "markdown",
   "metadata": {},
   "source": [
    "Question4 :  What is the most purchased item on the menu and how many times was it purchased by all customers?"
   ]
  },
  {
   "cell_type": "code",
   "execution_count": 173,
   "metadata": {},
   "outputs": [],
   "source": [
    "most_purchased = sales_df.groupBy('product_id').agg({'product_id':'count'}).withColumnRenamed('count(product_id)','count').orderBy('count',ascending=0).limit(1).join(menu_df,'product_id')"
   ]
  },
  {
   "cell_type": "code",
   "execution_count": 174,
   "metadata": {},
   "outputs": [
    {
     "name": "stdout",
     "output_type": "stream",
     "text": [
      "+----------+-----+------------+-----+\n",
      "|product_id|count|product_name|price|\n",
      "+----------+-----+------------+-----+\n",
      "|         3|    8|       ramen|   12|\n",
      "+----------+-----+------------+-----+\n",
      "\n"
     ]
    }
   ],
   "source": [
    "most_purchased.show()"
   ]
  },
  {
   "attachments": {},
   "cell_type": "markdown",
   "metadata": {},
   "source": [
    "Question5 :  Which item was the most popular for each customer?"
   ]
  },
  {
   "cell_type": "code",
   "execution_count": 211,
   "metadata": {},
   "outputs": [],
   "source": [
    "most_popular_per_cust = sales_df\n",
    "most_popular_per_cust = most_popular_per_cust.groupBy('customer_id','product_id').agg({'product_id':'count'}).orderBy('count(product_id)')"
   ]
  },
  {
   "cell_type": "code",
   "execution_count": 212,
   "metadata": {},
   "outputs": [],
   "source": [
    "windowSpec_per_customer = Window.partitionBy('customer_id').orderBy(desc('count(product_id)'))\n",
    "most_popular_per_cust = most_popular_per_cust.withColumn('rank',rank().over(windowSpec_per_customer))"
   ]
  },
  {
   "cell_type": "code",
   "execution_count": 213,
   "metadata": {},
   "outputs": [],
   "source": [
    "most_popular_per_cust=most_popular_per_cust.filter(\"rank==1\")"
   ]
  },
  {
   "cell_type": "code",
   "execution_count": 215,
   "metadata": {},
   "outputs": [],
   "source": [
    "most_popular_per_cust = most_popular_per_cust.join(menu_df,'product_id')"
   ]
  },
  {
   "cell_type": "code",
   "execution_count": 223,
   "metadata": {},
   "outputs": [
    {
     "name": "stdout",
     "output_type": "stream",
     "text": [
      "+-----------+------------+\n",
      "|customer_id|product_name|\n",
      "+-----------+------------+\n",
      "|          A|       ramen|\n",
      "|          B|       sushi|\n",
      "|          B|       ramen|\n",
      "|          B|       curry|\n",
      "|          C|       ramen|\n",
      "+-----------+------------+\n",
      "\n"
     ]
    }
   ],
   "source": [
    "most_popular_per_cust.select('customer_id','product_name').show()"
   ]
  },
  {
   "attachments": {},
   "cell_type": "markdown",
   "metadata": {},
   "source": [
    "Question6 :  Which item was purchased first by the customer after they became a member?"
   ]
  },
  {
   "cell_type": "code",
   "execution_count": 226,
   "metadata": {},
   "outputs": [],
   "source": [
    "purchased_first_after_membership = sales_df.join(members_df,'customer_id')"
   ]
  },
  {
   "cell_type": "code",
   "execution_count": 234,
   "metadata": {},
   "outputs": [],
   "source": [
    "purchased_first_after_membership=purchased_first_after_membership.filter(\"order_date>=join_date\")"
   ]
  },
  {
   "cell_type": "code",
   "execution_count": 235,
   "metadata": {},
   "outputs": [],
   "source": [
    "windowSpec_purchased_after_membership = Window.partitionBy('customer_id').orderBy('order_date')"
   ]
  },
  {
   "cell_type": "code",
   "execution_count": 240,
   "metadata": {},
   "outputs": [],
   "source": [
    "purchased_first_after_membership=purchased_first_after_membership.withColumn('rank',rank().over(windowSpec_purchased_after_membership))"
   ]
  },
  {
   "cell_type": "code",
   "execution_count": 242,
   "metadata": {},
   "outputs": [],
   "source": [
    "purchased_first_after_membership=purchased_first_after_membership.filter(\"rank==1\")"
   ]
  },
  {
   "cell_type": "code",
   "execution_count": 243,
   "metadata": {},
   "outputs": [
    {
     "name": "stdout",
     "output_type": "stream",
     "text": [
      "+-----------+----------+----------+----------+----+\n",
      "|customer_id|order_date|product_id| join_date|rank|\n",
      "+-----------+----------+----------+----------+----+\n",
      "|          A|2021-01-07|         2|2021-01-07|   1|\n",
      "|          B|2021-01-11|         1|2021-01-09|   1|\n",
      "+-----------+----------+----------+----------+----+\n",
      "\n"
     ]
    }
   ],
   "source": [
    "purchased_first_after_membership.show()"
   ]
  },
  {
   "cell_type": "code",
   "execution_count": 244,
   "metadata": {},
   "outputs": [],
   "source": [
    "purchased_first_after_membership = purchased_first_after_membership.join(menu_df,'product_id')"
   ]
  },
  {
   "cell_type": "code",
   "execution_count": 245,
   "metadata": {},
   "outputs": [
    {
     "name": "stdout",
     "output_type": "stream",
     "text": [
      "+----------+-----------+----------+----------+----+------------+-----+\n",
      "|product_id|customer_id|order_date| join_date|rank|product_name|price|\n",
      "+----------+-----------+----------+----------+----+------------+-----+\n",
      "|         2|          A|2021-01-07|2021-01-07|   1|       curry|   15|\n",
      "|         1|          B|2021-01-11|2021-01-09|   1|       sushi|   10|\n",
      "+----------+-----------+----------+----------+----+------------+-----+\n",
      "\n"
     ]
    }
   ],
   "source": [
    "purchased_first_after_membership.show()"
   ]
  },
  {
   "cell_type": "code",
   "execution_count": 246,
   "metadata": {},
   "outputs": [
    {
     "name": "stdout",
     "output_type": "stream",
     "text": [
      "+-----------+----------+------------+\n",
      "|customer_id|order_date|product_name|\n",
      "+-----------+----------+------------+\n",
      "|          A|2021-01-07|       curry|\n",
      "|          B|2021-01-11|       sushi|\n",
      "+-----------+----------+------------+\n",
      "\n"
     ]
    }
   ],
   "source": [
    "purchased_first_after_membership = purchased_first_after_membership.select('customer_id','order_date','product_name').show()"
   ]
  },
  {
   "attachments": {},
   "cell_type": "markdown",
   "metadata": {},
   "source": [
    "Question7 :  Which item was purchased just before the customer became a member?"
   ]
  },
  {
   "cell_type": "code",
   "execution_count": 275,
   "metadata": {},
   "outputs": [],
   "source": [
    "purchased_just_before_membership = sales_df.join(members_df,'customer_id')"
   ]
  },
  {
   "cell_type": "code",
   "execution_count": 276,
   "metadata": {},
   "outputs": [],
   "source": [
    "purchased_just_before_membership=purchased_just_before_membership.filter('order_date<join_date')"
   ]
  },
  {
   "cell_type": "code",
   "execution_count": 277,
   "metadata": {},
   "outputs": [],
   "source": [
    "purchased_just_before_membership = purchased_just_before_membership.join(menu_df,'product_id')"
   ]
  },
  {
   "cell_type": "code",
   "execution_count": 278,
   "metadata": {},
   "outputs": [],
   "source": [
    "windowSpec_purchased_just_before_membership=Window.partitionBy('customer_id').orderBy(desc('order_date'))\n",
    "purchased_just_before_membership = purchased_just_before_membership.withColumn('rank',rank().over(windowSpec_purchased_just_before_membership))"
   ]
  },
  {
   "cell_type": "code",
   "execution_count": 273,
   "metadata": {},
   "outputs": [],
   "source": [
    "purchased_just_before_membership=purchased_just_before_membership.filter('rank==1')"
   ]
  },
  {
   "attachments": {},
   "cell_type": "markdown",
   "metadata": {},
   "source": [
    "Question8 :  What is the total items and amount spent for each member before they became a member?"
   ]
  },
  {
   "cell_type": "code",
   "execution_count": 286,
   "metadata": {},
   "outputs": [],
   "source": [
    "sum_purchased_just_before_membership=purchased_just_before_membership"
   ]
  },
  {
   "cell_type": "code",
   "execution_count": 289,
   "metadata": {},
   "outputs": [],
   "source": [
    "sum_purchased_just_before_membership=sum_purchased_just_before_membership.groupBy('customer_id').agg({'price':'sum'})"
   ]
  },
  {
   "cell_type": "code",
   "execution_count": 290,
   "metadata": {},
   "outputs": [
    {
     "name": "stdout",
     "output_type": "stream",
     "text": [
      "+-----------+----------+\n",
      "|customer_id|sum(price)|\n",
      "+-----------+----------+\n",
      "|          B|        40|\n",
      "|          A|        25|\n",
      "+-----------+----------+\n",
      "\n"
     ]
    }
   ],
   "source": [
    "sum_purchased_just_before_membership.show()"
   ]
  },
  {
   "attachments": {},
   "cell_type": "markdown",
   "metadata": {},
   "source": [
    "Question9 :  If each $1 spent equates to 10 points and sushi has a 2x points multiplier — how many points would each customer have?"
   ]
  },
  {
   "cell_type": "code",
   "execution_count": 305,
   "metadata": {},
   "outputs": [],
   "source": [
    "total_points = sales_df.join(menu_df,'product_id')"
   ]
  },
  {
   "cell_type": "code",
   "execution_count": 306,
   "metadata": {},
   "outputs": [],
   "source": [
    "total_points = total_points.groupBy('customer_id','product_name').agg({'price':'sum'}).withColumnRenamed('sum(price)','total_price')"
   ]
  },
  {
   "cell_type": "code",
   "execution_count": 313,
   "metadata": {},
   "outputs": [
    {
     "name": "stdout",
     "output_type": "stream",
     "text": [
      "+-----------+------------+-----------+\n",
      "|customer_id|product_name|total_price|\n",
      "+-----------+------------+-----------+\n",
      "|          A|       sushi|         10|\n",
      "|          A|       ramen|         36|\n",
      "|          B|       sushi|         20|\n",
      "|          B|       ramen|         24|\n",
      "|          A|       curry|         30|\n",
      "|          C|       ramen|         36|\n",
      "|          B|       curry|         30|\n",
      "+-----------+------------+-----------+\n",
      "\n"
     ]
    }
   ],
   "source": [
    "total_points.show()"
   ]
  },
  {
   "cell_type": "code",
   "execution_count": 322,
   "metadata": {},
   "outputs": [],
   "source": [
    "total_points=total_points.withColumn('points',when((total_points.product_name == 'sushi'),total_points.total_price*20).otherwise(total_points.total_price*10))"
   ]
  },
  {
   "cell_type": "code",
   "execution_count": 325,
   "metadata": {},
   "outputs": [],
   "source": [
    "total_points = total_points.groupBy('customer_id').agg({'points':'sum'})"
   ]
  },
  {
   "cell_type": "code",
   "execution_count": 326,
   "metadata": {},
   "outputs": [
    {
     "name": "stdout",
     "output_type": "stream",
     "text": [
      "+-----------+-----------+\n",
      "|customer_id|sum(points)|\n",
      "+-----------+-----------+\n",
      "|          B|        940|\n",
      "|          C|        360|\n",
      "|          A|        860|\n",
      "+-----------+-----------+\n",
      "\n"
     ]
    }
   ],
   "source": [
    "total_points.show()"
   ]
  },
  {
   "attachments": {},
   "cell_type": "markdown",
   "metadata": {},
   "source": [
    "Question10 :  In the first week after a customer joins the program (including their join date) they earn 2x points on all items, not just sushi — how many points do customer A and B have at the end of January?"
   ]
  },
  {
   "cell_type": "code",
   "execution_count": 342,
   "metadata": {},
   "outputs": [],
   "source": [
    "points_when_joined = sales_df.join(menu_df,'product_id').join(members_df,'customer_id')"
   ]
  },
  {
   "cell_type": "code",
   "execution_count": 352,
   "metadata": {},
   "outputs": [],
   "source": [
    "points_when_joined = points_when_joined.filter(month('order_date')==1)"
   ]
  },
  {
   "cell_type": "code",
   "execution_count": 353,
   "metadata": {},
   "outputs": [],
   "source": [
    "points_when_joined = points_when_joined.withColumn('points',when((datediff(points_when_joined.join_date,points_when_joined.order_date)<6),points_when_joined.price*20).when((points_when_joined.product_name=='sushi'),points_when_joined.price*20).otherwise(points_when_joined.price*10))"
   ]
  },
  {
   "cell_type": "code",
   "execution_count": 354,
   "metadata": {},
   "outputs": [
    {
     "name": "stdout",
     "output_type": "stream",
     "text": [
      "+-----------+----------+----------+------------+-----+----------+------+\n",
      "|customer_id|product_id|order_date|product_name|price| join_date|points|\n",
      "+-----------+----------+----------+------------+-----+----------+------+\n",
      "|          A|         1|2021-01-01|       sushi|   10|2021-01-07|   200|\n",
      "|          A|         2|2021-01-01|       curry|   15|2021-01-07|   150|\n",
      "|          A|         2|2021-01-07|       curry|   15|2021-01-07|   300|\n",
      "|          A|         3|2021-01-10|       ramen|   12|2021-01-07|   240|\n",
      "|          A|         3|2021-01-11|       ramen|   12|2021-01-07|   240|\n",
      "|          A|         3|2021-01-11|       ramen|   12|2021-01-07|   240|\n",
      "|          B|         2|2021-01-01|       curry|   15|2021-01-09|   150|\n",
      "|          B|         2|2021-01-02|       curry|   15|2021-01-09|   150|\n",
      "|          B|         1|2021-01-04|       sushi|   10|2021-01-09|   200|\n",
      "|          B|         1|2021-01-11|       sushi|   10|2021-01-09|   200|\n",
      "|          B|         3|2021-01-16|       ramen|   12|2021-01-09|   240|\n",
      "+-----------+----------+----------+------------+-----+----------+------+\n",
      "\n"
     ]
    }
   ],
   "source": [
    "points_when_joined.show()"
   ]
  },
  {
   "cell_type": "code",
   "execution_count": 355,
   "metadata": {},
   "outputs": [
    {
     "name": "stdout",
     "output_type": "stream",
     "text": [
      "+-----------+-----------+\n",
      "|customer_id|sum(points)|\n",
      "+-----------+-----------+\n",
      "|          B|        940|\n",
      "|          A|       1370|\n",
      "+-----------+-----------+\n",
      "\n"
     ]
    }
   ],
   "source": [
    "points_when_joined.groupBy('customer_id').agg({'points':'sum'}).show()"
   ]
  },
  {
   "attachments": {},
   "cell_type": "markdown",
   "metadata": {},
   "source": [
    "-------------BONUS ROUND ----------------------------------------"
   ]
  },
  {
   "attachments": {},
   "cell_type": "markdown",
   "metadata": {},
   "source": [
    "Recreate the table with: customer_id, order_date, product_name, price, member (Y/N)"
   ]
  },
  {
   "cell_type": "code",
   "execution_count": 405,
   "metadata": {},
   "outputs": [],
   "source": [
    "consolidated_info = sales_df.join(menu_df,'product_id').join(members_df,'customer_id','left')"
   ]
  },
  {
   "cell_type": "code",
   "execution_count": 406,
   "metadata": {},
   "outputs": [],
   "source": [
    "consolidated_info = consolidated_info.withColumn('member',when((consolidated_info.order_date<consolidated_info.join_date),'N').otherwise('Y'))"
   ]
  },
  {
   "cell_type": "code",
   "execution_count": 407,
   "metadata": {},
   "outputs": [],
   "source": [
    "consolidated_info = consolidated_info.select('customer_id','order_date','product_name','price','member')"
   ]
  },
  {
   "cell_type": "code",
   "execution_count": 408,
   "metadata": {},
   "outputs": [
    {
     "name": "stdout",
     "output_type": "stream",
     "text": [
      "+-----------+----------+------------+-----+------+\n",
      "|customer_id|order_date|product_name|price|member|\n",
      "+-----------+----------+------------+-----+------+\n",
      "|          A|2021-01-01|       sushi|   10|     N|\n",
      "|          A|2021-01-01|       curry|   15|     N|\n",
      "|          A|2021-01-07|       curry|   15|     Y|\n",
      "|          A|2021-01-10|       ramen|   12|     Y|\n",
      "|          A|2021-01-11|       ramen|   12|     Y|\n",
      "|          A|2021-01-11|       ramen|   12|     Y|\n",
      "|          B|2021-01-01|       curry|   15|     N|\n",
      "|          B|2021-01-02|       curry|   15|     N|\n",
      "|          B|2021-01-04|       sushi|   10|     N|\n",
      "|          B|2021-01-11|       sushi|   10|     Y|\n",
      "|          B|2021-01-16|       ramen|   12|     Y|\n",
      "|          B|2021-02-01|       ramen|   12|     Y|\n",
      "|          C|2021-01-01|       ramen|   12|     Y|\n",
      "|          C|2021-01-01|       ramen|   12|     Y|\n",
      "|          C|2021-01-07|       ramen|   12|     Y|\n",
      "+-----------+----------+------------+-----+------+\n",
      "\n"
     ]
    }
   ],
   "source": [
    "consolidated_info.show()"
   ]
  },
  {
   "attachments": {},
   "cell_type": "markdown",
   "metadata": {},
   "source": [
    "Rank All The Things - Danny also requires further information about the ranking of customer products, but he purposely does not need the ranking for non-member purchases so he expects null ranking values for the records when customers are not yet part of the loyalty program."
   ]
  },
  {
   "cell_type": "code",
   "execution_count": 416,
   "metadata": {},
   "outputs": [],
   "source": [
    "windowSpec_rank_of_all_things = Window.partitionBy('customer_id','member').orderBy('order_date')"
   ]
  },
  {
   "cell_type": "code",
   "execution_count": 417,
   "metadata": {},
   "outputs": [],
   "source": [
    "rank_of_all_things = consolidated_info.withColumn('ranking',\n",
    "                                                  when((consolidated_info.member==\"N\"),'Null').otherwise(rank().over(windowSpec_rank_of_all_things)))"
   ]
  },
  {
   "cell_type": "code",
   "execution_count": 418,
   "metadata": {},
   "outputs": [
    {
     "name": "stdout",
     "output_type": "stream",
     "text": [
      "+-----------+----------+------------+-----+------+-------+\n",
      "|customer_id|order_date|product_name|price|member|ranking|\n",
      "+-----------+----------+------------+-----+------+-------+\n",
      "|          A|2021-01-01|       sushi|   10|     N|   Null|\n",
      "|          A|2021-01-01|       curry|   15|     N|   Null|\n",
      "|          A|2021-01-07|       curry|   15|     Y|      1|\n",
      "|          A|2021-01-10|       ramen|   12|     Y|      2|\n",
      "|          A|2021-01-11|       ramen|   12|     Y|      3|\n",
      "|          A|2021-01-11|       ramen|   12|     Y|      3|\n",
      "|          B|2021-01-01|       curry|   15|     N|   Null|\n",
      "|          B|2021-01-02|       curry|   15|     N|   Null|\n",
      "|          B|2021-01-04|       sushi|   10|     N|   Null|\n",
      "|          B|2021-01-11|       sushi|   10|     Y|      1|\n",
      "|          B|2021-01-16|       ramen|   12|     Y|      2|\n",
      "|          B|2021-02-01|       ramen|   12|     Y|      3|\n",
      "|          C|2021-01-01|       ramen|   12|     Y|      1|\n",
      "|          C|2021-01-01|       ramen|   12|     Y|      1|\n",
      "|          C|2021-01-07|       ramen|   12|     Y|      3|\n",
      "+-----------+----------+------------+-----+------+-------+\n",
      "\n"
     ]
    }
   ],
   "source": [
    "rank_of_all_things.show()"
   ]
  },
  {
   "cell_type": "code",
   "execution_count": null,
   "metadata": {},
   "outputs": [],
   "source": []
  }
 ],
 "metadata": {
  "kernelspec": {
   "display_name": "Python 3",
   "language": "python",
   "name": "python3"
  },
  "language_info": {
   "codemirror_mode": {
    "name": "ipython",
    "version": 3
   },
   "file_extension": ".py",
   "mimetype": "text/x-python",
   "name": "python",
   "nbconvert_exporter": "python",
   "pygments_lexer": "ipython3",
   "version": "3.11.3"
  },
  "orig_nbformat": 4
 },
 "nbformat": 4,
 "nbformat_minor": 2
}
